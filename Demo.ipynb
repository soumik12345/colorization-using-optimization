{
 "cells": [
  {
   "cell_type": "markdown",
   "id": "e6deadda",
   "metadata": {
    "colab_type": "text",
    "id": "view-in-github"
   },
   "source": [
    "<a href=\"https://colab.research.google.com/github/soumik12345/colorization-using-optimization/blob/master/Demo.ipynb\" target=\"_parent\"><img src=\"https://colab.research.google.com/assets/colab-badge.svg\" alt=\"Open In Colab\"/></a>"
   ]
  },
  {
   "cell_type": "markdown",
   "id": "Mrgh7NHkUNAo",
   "metadata": {
    "id": "Mrgh7NHkUNAo"
   },
   "source": [
    "## Clone the repository"
   ]
  },
  {
   "cell_type": "code",
   "execution_count": null,
   "id": "gMeivfsWUMtQ",
   "metadata": {
    "colab": {
     "base_uri": "https://localhost:8080/"
    },
    "id": "gMeivfsWUMtQ",
    "outputId": "09c4990d-67c7-4063-bfa0-c58445e69866"
   },
   "outputs": [],
   "source": [
    "!git clone https://github.com/soumik12345/colorization-using-optimization\n",
    "%cd colorization-using-optimization"
   ]
  },
  {
   "cell_type": "markdown",
   "id": "17f836a3",
   "metadata": {
    "id": "17f836a3"
   },
   "source": [
    "## Baseline Colorizer"
   ]
  },
  {
   "cell_type": "code",
   "execution_count": null,
   "id": "47540fb4",
   "metadata": {
    "id": "47540fb4"
   },
   "outputs": [],
   "source": [
    "from colorization import Colorizer"
   ]
  },
  {
   "cell_type": "code",
   "execution_count": null,
   "id": "fb01dd85",
   "metadata": {
    "id": "fb01dd85"
   },
   "outputs": [],
   "source": [
    "colorizer = Colorizer(\n",
    "    gray_image_file='./data/original/example.png',\n",
    "    visual_clues_file='./data/visual-clues/example.png'\n",
    ")"
   ]
  },
  {
   "cell_type": "code",
   "execution_count": null,
   "id": "21fcde2e",
   "metadata": {
    "colab": {
     "base_uri": "https://localhost:8080/",
     "height": 298
    },
    "id": "21fcde2e",
    "outputId": "892a6982-1ffe-4cbb-c687-d4cb38271681"
   },
   "outputs": [],
   "source": [
    "colorizer.plot_inputs()"
   ]
  },
  {
   "cell_type": "code",
   "execution_count": null,
   "id": "7bd9428a",
   "metadata": {
    "colab": {
     "base_uri": "https://localhost:8080/"
    },
    "id": "7bd9428a",
    "outputId": "89963492-5ad3-46bf-d83e-a634eca1b665"
   },
   "outputs": [],
   "source": [
    "%%time\n",
    "result = colorizer.colorize()"
   ]
  },
  {
   "cell_type": "code",
   "execution_count": null,
   "id": "c8648e42",
   "metadata": {
    "colab": {
     "base_uri": "https://localhost:8080/",
     "height": 386
    },
    "id": "c8648e42",
    "outputId": "f6587c81-d824-4af8-b82a-57fde8c32e83"
   },
   "outputs": [],
   "source": [
    "colorizer.plot_results(result)"
   ]
  },
  {
   "cell_type": "markdown",
   "id": "17e517b1",
   "metadata": {
    "id": "17e517b1"
   },
   "source": [
    "## Iterative Colorizer"
   ]
  },
  {
   "cell_type": "code",
   "execution_count": null,
   "id": "48e35f19",
   "metadata": {
    "id": "48e35f19"
   },
   "outputs": [],
   "source": [
    "from colorization import IterativeColorizer"
   ]
  },
  {
   "cell_type": "code",
   "execution_count": null,
   "id": "67dac6b5",
   "metadata": {
    "id": "67dac6b5"
   },
   "outputs": [],
   "source": [
    "colorizer = IterativeColorizer(\n",
    "    original_image='./data/original/example.png',\n",
    "    visual_clues='./data/visual-clues/example.png'\n",
    ")"
   ]
  },
  {
   "cell_type": "code",
   "execution_count": null,
   "id": "48734ad9",
   "metadata": {
    "colab": {
     "base_uri": "https://localhost:8080/",
     "height": 298
    },
    "id": "48734ad9",
    "outputId": "1d14f808-f2f2-4e9c-c87b-95f3172bfea6"
   },
   "outputs": [],
   "source": [
    "colorizer.plot_inputs()"
   ]
  },
  {
   "cell_type": "code",
   "execution_count": null,
   "id": "02056cde",
   "metadata": {
    "colab": {
     "base_uri": "https://localhost:8080/"
    },
    "id": "02056cde",
    "outputId": "491a83dc-e87d-46fb-f4f3-648bb7756c9e"
   },
   "outputs": [],
   "source": [
    "%%time\n",
    "colorizer.colorize(epochs=600, log_interval=100)"
   ]
  },
  {
   "cell_type": "code",
   "execution_count": null,
   "id": "8a74de03",
   "metadata": {
    "colab": {
     "base_uri": "https://localhost:8080/",
     "height": 1000
    },
    "id": "8a74de03",
    "outputId": "9104deb8-4089-4e0e-ad10-04bd7a636bd6"
   },
   "outputs": [],
   "source": [
    "colorizer.plot_results(log_interval=100)"
   ]
  },
  {
   "cell_type": "code",
   "execution_count": null,
   "id": "jdB19ikpX1Or",
   "metadata": {
    "id": "jdB19ikpX1Or"
   },
   "outputs": [],
   "source": []
  }
 ],
 "metadata": {
  "colab": {
   "include_colab_link": true,
   "name": "Demo.ipynb",
   "provenance": []
  },
  "interpreter": {
   "hash": "556b822321b97cfa85b8ef545cd8388f5d22aa515c082e37848490687a34f054"
  },
  "kernelspec": {
   "display_name": "Python 3 (ipykernel)",
   "language": "python",
   "name": "python3"
  },
  "language_info": {
   "codemirror_mode": {
    "name": "ipython",
    "version": 3
   },
   "file_extension": ".py",
   "mimetype": "text/x-python",
   "name": "python",
   "nbconvert_exporter": "python",
   "pygments_lexer": "ipython3",
   "version": "3.8.10"
  }
 },
 "nbformat": 4,
 "nbformat_minor": 5
}
