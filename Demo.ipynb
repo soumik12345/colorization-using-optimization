{
 "cells": [
  {
   "cell_type": "markdown",
   "id": "17f836a3",
   "metadata": {},
   "source": [
    "## Baseline Colorizer"
   ]
  },
  {
   "cell_type": "code",
   "execution_count": null,
   "id": "47540fb4",
   "metadata": {},
   "outputs": [],
   "source": [
    "from colorization import Colorizer"
   ]
  },
  {
   "cell_type": "code",
   "execution_count": null,
   "id": "fb01dd85",
   "metadata": {},
   "outputs": [],
   "source": [
    "colorizer = Colorizer(\n",
    "    gray_image_file='./data/original/example.png',\n",
    "    visual_clues_file='./data/visual-clues/example.png'\n",
    ")"
   ]
  },
  {
   "cell_type": "code",
   "execution_count": null,
   "id": "21fcde2e",
   "metadata": {},
   "outputs": [],
   "source": [
    "colorizer.plot_inputs()"
   ]
  },
  {
   "cell_type": "code",
   "execution_count": null,
   "id": "7bd9428a",
   "metadata": {},
   "outputs": [],
   "source": [
    "%%time\n",
    "result = colorizer.colorize()"
   ]
  },
  {
   "cell_type": "code",
   "execution_count": null,
   "id": "c8648e42",
   "metadata": {},
   "outputs": [],
   "source": [
    "colorizer.plot_results(result)"
   ]
  },
  {
   "cell_type": "markdown",
   "id": "17e517b1",
   "metadata": {},
   "source": [
    "## Iterative Colorizer"
   ]
  },
  {
   "cell_type": "code",
   "execution_count": null,
   "id": "48e35f19",
   "metadata": {},
   "outputs": [],
   "source": [
    "from colorization import IterativeColorizer"
   ]
  },
  {
   "cell_type": "code",
   "execution_count": null,
   "id": "67dac6b5",
   "metadata": {},
   "outputs": [],
   "source": [
    "colorizer = IterativeColorizer(\n",
    "    original_image='./data/original/example.png',\n",
    "    visual_clues='./data/visual-clues/example.png'\n",
    ")"
   ]
  },
  {
   "cell_type": "code",
   "execution_count": null,
   "id": "48734ad9",
   "metadata": {},
   "outputs": [],
   "source": [
    "colorizer.plot_inputs()"
   ]
  },
  {
   "cell_type": "code",
   "execution_count": null,
   "id": "02056cde",
   "metadata": {},
   "outputs": [],
   "source": [
    "%%time\n",
    "colorizer.colorize(epochs=600, log_interval=100)"
   ]
  },
  {
   "cell_type": "code",
   "execution_count": null,
   "id": "8a74de03",
   "metadata": {},
   "outputs": [],
   "source": [
    "colorizer.plot_results(log_interval=100)"
   ]
  },
  {
   "cell_type": "code",
   "execution_count": null,
   "id": "7454d1d0",
   "metadata": {},
   "outputs": [],
   "source": []
  }
 ],
 "metadata": {
  "interpreter": {
   "hash": "556b822321b97cfa85b8ef545cd8388f5d22aa515c082e37848490687a34f054"
  },
  "kernelspec": {
   "display_name": "Python 3 (ipykernel)",
   "language": "python",
   "name": "python3"
  },
  "language_info": {
   "codemirror_mode": {
    "name": "ipython",
    "version": 3
   },
   "file_extension": ".py",
   "mimetype": "text/x-python",
   "name": "python",
   "nbconvert_exporter": "python",
   "pygments_lexer": "ipython3",
   "version": "3.8.10"
  }
 },
 "nbformat": 4,
 "nbformat_minor": 5
}
